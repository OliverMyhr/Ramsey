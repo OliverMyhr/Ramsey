{
 "cells": [
  {
   "cell_type": "code",
   "execution_count": 1,
   "metadata": {},
   "outputs": [
    {
     "ename": "ModuleNotFoundError",
     "evalue": "No module named 'requests'",
     "output_type": "error",
     "traceback": [
      "\u001b[31m---------------------------------------------------------------------------\u001b[39m",
      "\u001b[31mModuleNotFoundError\u001b[39m                       Traceback (most recent call last)",
      "\u001b[36mCell\u001b[39m\u001b[36m \u001b[39m\u001b[32mIn[1]\u001b[39m\u001b[32m, line 1\u001b[39m\n\u001b[32m----> \u001b[39m\u001b[32m1\u001b[39m \u001b[38;5;28;01mimport\u001b[39;00m\u001b[38;5;250m \u001b[39m\u001b[34;01mrequests\u001b[39;00m\n\u001b[32m      2\u001b[39m \u001b[38;5;28;01mimport\u001b[39;00m\u001b[38;5;250m \u001b[39m\u001b[34;01mos\u001b[39;00m\n\u001b[32m      4\u001b[39m \u001b[38;5;66;03m# Sett path til kaggle.json (API-nøkkel) som inneholder din API-autentisering\u001b[39;00m\n",
      "\u001b[31mModuleNotFoundError\u001b[39m: No module named 'requests'"
     ]
    }
   ],
   "source": [
    "import requests\n",
    "import os\n",
    "\n",
    "# Sett path til kaggle.json (API-nøkkel) som inneholder din API-autentisering\n",
    "kaggle_json_path = os.path.expanduser('~/.kaggle/kaggle.json')\n",
    "\n",
    "# Les API-nøkkelen fra filen\n",
    "with open(kaggle_json_path, 'r') as f:\n",
    "    kaggle_credentials = f.read()\n",
    "\n",
    "# Lag en dictionary med nødvendige headers for autentisering\n",
    "headers = {\n",
    "    'Authorization': 'Bearer ' + kaggle_credentials.split(':')[1].replace('\"', '').strip()\n",
    "}\n",
    "\n",
    "# URL til datasetet du vil laste ned\n",
    "dataset_url = \"https://www.kaggle.com/datasets/username/predict-droughts-weather-soil/download\"\n",
    "\n",
    "# Send en forespørsel til Kaggle for å laste ned datasettet\n",
    "response = requests.get(dataset_url, headers=headers, stream=True)\n",
    "\n",
    "# Sjekk om forespørselen var vellykket (HTTP status 200)\n",
    "if response.status_code == 200:\n",
    "    # Lagre filen som en ZIP-fil (eller en annen passende filtype)\n",
    "    with open('dataset.zip', 'wb') as f:\n",
    "        for chunk in response.iter_content(chunk_size=8192):\n",
    "            f.write(chunk)\n",
    "    print(\"Dataset lastet ned som 'dataset.zip'\")\n",
    "else:\n",
    "    print(f\"Forespørselen mislyktes med status: {response.status_code}\")\n"
   ]
  },
  {
   "cell_type": "code",
   "execution_count": 2,
   "metadata": {},
   "outputs": [
    {
     "ename": "ModuleNotFoundError",
     "evalue": "No module named 'requests'",
     "output_type": "error",
     "traceback": [
      "\u001b[31m---------------------------------------------------------------------------\u001b[39m",
      "\u001b[31mModuleNotFoundError\u001b[39m                       Traceback (most recent call last)",
      "\u001b[36mCell\u001b[39m\u001b[36m \u001b[39m\u001b[32mIn[2]\u001b[39m\u001b[32m, line 1\u001b[39m\n\u001b[32m----> \u001b[39m\u001b[32m1\u001b[39m \u001b[38;5;28;01mimport\u001b[39;00m\u001b[38;5;250m \u001b[39m\u001b[34;01mrequests\u001b[39;00m\n",
      "\u001b[31mModuleNotFoundError\u001b[39m: No module named 'requests'"
     ]
    }
   ],
   "source": [
    "import requests"
   ]
  }
 ],
 "metadata": {
  "kernelspec": {
   "display_name": "avenv",
   "language": "python",
   "name": "python3"
  },
  "language_info": {
   "codemirror_mode": {
    "name": "ipython",
    "version": 3
   },
   "file_extension": ".py",
   "mimetype": "text/x-python",
   "name": "python",
   "nbconvert_exporter": "python",
   "pygments_lexer": "ipython3",
   "version": "3.13.1"
  }
 },
 "nbformat": 4,
 "nbformat_minor": 2
}
