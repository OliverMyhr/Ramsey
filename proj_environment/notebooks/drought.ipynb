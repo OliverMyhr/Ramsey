{
 "cells": [
  {
   "cell_type": "code",
   "execution_count": null,
   "metadata": {},
   "outputs": [],
   "source": [
    "import os \n",
    "import sys\n",
    "from dotenv import load_dotenv\n",
    "from importlib import reload\n",
    "\n",
    "src_path = os.path.abspath(\"../src\")\n",
    "sys.path.append(src_path)"
   ]
  },
  {
   "cell_type": "code",
   "execution_count": null,
   "metadata": {},
   "outputs": [
    {
     "name": "stdout",
     "output_type": "stream",
     "text": [
      "Creating new file\n",
      "Files in ZIP: ['soil_data.csv', 'test_timeseries/test_timeseries.csv', 'train_timeseries/train_timeseries.csv', 'validation_timeseries/validation_timeseries.csv']\n",
      "First rows in the filtered dataset:    fips        date  PRECTOT      PS   QV2M    T2M  T2MDEW  T2MWET  T2M_MAX  \\\n",
      "0  1001  2000-01-01     0.22  100.51   9.65  14.74   13.51   13.51    20.96   \n",
      "1  1001  2000-01-02     0.20  100.55  10.42  16.69   14.71   14.71    22.80   \n",
      "2  1001  2000-01-03     3.65  100.15  11.76  18.49   16.52   16.52    22.73   \n",
      "3  1001  2000-01-04    15.95  100.29   6.42  11.40    6.09    6.10    18.09   \n",
      "4  1001  2000-01-05     0.00  101.15   2.95   3.86   -3.29   -3.20    10.82   \n",
      "\n",
      "   T2M_MIN  ...     TS  WS10M  WS10M_MAX  WS10M_MIN  WS10M_RANGE  WS50M  \\\n",
      "0    11.46  ...  14.65   2.20       2.94       1.49         1.46   4.85   \n",
      "1    12.61  ...  16.60   2.52       3.43       1.83         1.60   5.33   \n",
      "2    15.32  ...  18.41   4.03       5.33       2.66         2.67   7.53   \n",
      "3     2.16  ...  11.31   3.84       5.67       2.08         3.59   6.73   \n",
      "4    -2.66  ...   2.65   1.60       2.50       0.52         1.98   2.94   \n",
      "\n",
      "   WS50M_MAX  WS50M_MIN  WS50M_RANGE  score  \n",
      "0       6.04       3.23         2.81    NaN  \n",
      "1       6.13       3.72         2.41    NaN  \n",
      "2       9.52       5.87         3.66    NaN  \n",
      "3       9.31       3.74         5.58    1.0  \n",
      "4       4.85       0.65         4.19    NaN  \n",
      "\n",
      "[5 rows x 21 columns]\n",
      "Amount of rows after filtering: 18630\n",
      "Invalid input, please enter 'y' or 'n'\n",
      "No new file created\n"
     ]
    }
   ],
   "source": [
    "load_dotenv(\"../src/.env\")\n",
    "\n",
    "src_path = os.path.abspath(\"../src\")\n",
    "sys.path.append(src_path)\n",
    "\n",
    "import droughtEKTE as d\n",
    "\n",
    "reload(d)\n",
    "\n",
    "d.new_file()"
   ]
  },
  {
   "cell_type": "code",
   "execution_count": null,
   "metadata": {},
   "outputs": [
    {
     "data": {
      "text/plain": [
       "'No unrealistic temperature values found. No need to adjust any rows.'"
      ]
     },
     "execution_count": 10,
     "metadata": {},
     "output_type": "execute_result"
    }
   ],
   "source": [
    "import pandas as pd\n",
    "\n",
    "load_dotenv(\"../src/.env\")\n",
    "\n",
    "src_path = os.path.abspath(\"../src\")\n",
    "sys.path.append(src_path)\n",
    "\n",
    "import drought_clean as dc\n",
    "\n",
    "reload(dc)\n",
    "\n",
    "df = pd.read_csv(\"../data/filtered1_data.csv\")\n",
    "min_temp = -50\n",
    "max_temp = 50\n",
    "\n",
    "dc.check_unrealistic_temperature(df, min_temp, max_temp)"
   ]
  },
  {
   "cell_type": "code",
   "execution_count": null,
   "metadata": {},
   "outputs": [
    {
     "data": {
      "text/plain": [
       "'New file created with replaced values.'"
      ]
     },
     "execution_count": 3,
     "metadata": {},
     "output_type": "execute_result"
    }
   ],
   "source": [
    "import pandas as pd\n",
    "\n",
    "load_dotenv(\"../src/.env\")\n",
    "\n",
    "src_path = os.path.abspath(\"../src\")\n",
    "sys.path.append(src_path)\n",
    "\n",
    "import drought_clean as dc\n",
    "\n",
    "reload(dc)\n",
    "\n",
    "df = pd.read_csv(\"../data/filtered1_data.csv\")\n",
    "fips_codes = [1001, 1003, 1005]\n",
    "\n",
    "dc.replace_to_csv(df, fips_codes)"
   ]
  },
  {
   "cell_type": "code",
   "execution_count": null,
   "metadata": {},
   "outputs": [
    {
     "name": "stdout",
     "output_type": "stream",
     "text": [
      "Columns available for median calculation: ['PRECTOT', 'PS', 'QV2M', 'T2M', 'T2MDEW', 'T2MWET', 'T2M_MAX', 'T2M_MIN', 'T2M_RANGE', 'TS', 'WS10M', 'WS10M_MAX', 'WS10M_MIN', 'WS10M_RANGE', 'WS50M', 'WS50M_MAX', 'WS50M_MIN', 'WS50M_RANGE', 'score']\n",
      "Available FIPS codes: [1001, 1003, 1005]\n",
      "        T2M  T2M_MIN\n",
      "fips                \n",
      "1001  18.73   12.865\n",
      "1005  19.59   13.735\n",
      "Columns available for mean value calculation: ['PRECTOT', 'PS', 'QV2M', 'T2M', 'T2MDEW', 'T2MWET', 'T2M_MAX', 'T2M_MIN', 'T2M_RANGE', 'TS', 'WS10M', 'WS10M_MAX', 'WS10M_MIN', 'WS10M_RANGE', 'WS50M', 'WS50M_MAX', 'WS50M_MIN', 'WS50M_RANGE', 'score']\n",
      "Available FIPS codes: [1001, 1003, 1005]\n",
      "      PRECTOT      PS  T2MWET\n",
      "fips                         \n",
      "1001     3.66  100.29   12.67\n",
      "1003     4.08  101.33   15.45\n"
     ]
    }
   ],
   "source": [
    "import pandas as pd\n",
    "\n",
    "src_path = os.path.abspath(\"../src\")\n",
    "sys.path.append(src_path)\n",
    "\n",
    "import drought_clean as dc\n",
    "\n",
    "reload(dc)\n",
    "\n",
    "\n",
    "df = dc.df\n",
    "fips_codes = dc.fips_codes\n",
    "\n",
    "print(dc.find_median(df, fips_codes))\n",
    "print(dc.find_mean_value(df, fips_codes))"
   ]
  },
  {
   "cell_type": "code",
   "execution_count": 21,
   "metadata": {},
   "outputs": [
    {
     "name": "stdout",
     "output_type": "stream",
     "text": [
      "FIPS-code: 1001\n",
      "Correlation value: 0.12\n",
      "P-value: 0.0000000000\n",
      "Result: Weak correlation | Significant\n",
      "FIPS-code: 1003\n",
      "Correlation value: 0.11\n",
      "P-value: 0.0000000000\n",
      "Result: Weak correlation | Significant\n",
      "FIPS-code: 1005\n",
      "Correlation value: 0.08\n",
      "P-value: 0.0000000012\n",
      "Result: Weak correlation | Significant\n",
      "Done with analysis for T2M and PRECTOT.\n",
      "FIPS-code: 1001\n",
      "Correlation value: 0.89\n",
      "P-value: 0.0000000000\n",
      "Result: Strong correlation | Significant\n",
      "FIPS-code: 1003\n",
      "Correlation value: 0.94\n",
      "P-value: 0.0000000000\n",
      "Result: Strong correlation | Significant\n",
      "FIPS-code: 1005\n",
      "Correlation value: 0.91\n",
      "P-value: 0.0000000000\n",
      "Result: Strong correlation | Significant\n",
      "Done with analysis for T2M and QV2M.\n",
      "FIPS-code: 1001\n",
      "Correlation value: 0.05\n",
      "P-value: 0.0003047483\n",
      "Result: Weak correlation | Significant\n",
      "FIPS-code: 1003\n",
      "Correlation value: 0.27\n",
      "P-value: 0.0000000000\n",
      "Result: Weak correlation | Significant\n",
      "FIPS-code: 1005\n",
      "Correlation value: 0.28\n",
      "P-value: 0.0000000000\n",
      "Result: Weak correlation | Significant\n",
      "Done with analysis for WS10M and PRECTOT.\n"
     ]
    }
   ],
   "source": [
    "import drought_stat_analysis as dsa\n",
    "\n",
    "df = dsa.df\n",
    "reload(dsa)\n",
    "\n",
    "print(dsa.corr_analysis(df, fips_codes, \"T2M\", \"PRECTOT\"))\n",
    "print(dsa.corr_analysis(df, fips_codes, \"T2M\", \"QV2M\"))\n",
    "print(dsa.corr_analysis(df, fips_codes, \"WS10M\", \"PRECTOT\"))"
   ]
  }
 ],
 "metadata": {
  "kernelspec": {
   "display_name": ".venv",
   "language": "python",
   "name": "python3"
  },
  "language_info": {
   "codemirror_mode": {
    "name": "ipython",
    "version": 3
   },
   "file_extension": ".py",
   "mimetype": "text/x-python",
   "name": "python",
   "nbconvert_exporter": "python",
   "pygments_lexer": "ipython3",
   "version": "3.13.1"
  }
 },
 "nbformat": 4,
 "nbformat_minor": 2
}
