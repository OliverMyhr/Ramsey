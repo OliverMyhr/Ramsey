{
 "cells": [
  {
   "cell_type": "code",
   "execution_count": 2,
   "metadata": {},
   "outputs": [],
   "source": [
    "import pandas as pd\n",
    "\n",
    "df = pd.read_csv(\"../data/filtered1_data.csv\")\n",
    "\n",
    "for i, rad in df.iterrows():\n",
    "    if pd.isna(rad['score']) and isinstance(rad['WS50M_RANGE'], str) and rad['WS50M_RANGE'].endswith(','):\n",
    "        # Fjern komma fra slutten av 'WS50M_RANGE' hvis 'score' er tom (NaN) på samme rad\n",
    "        df.at[i, 'WS50M_RANGE'] = rad['WS50M_RANGE'].rstrip(',')\n",
    "\n",
    "# Skriv den oppdaterte DataFrame tilbake til CSV-filen\n",
    "df.to_csv(\"../data/filtered1_data.csv\", index=False)\n",
    "\n"
   ]
  },
  {
   "cell_type": "code",
   "execution_count": null,
   "metadata": {},
   "outputs": [],
   "source": [
    "import pandas as pd\n",
    "from drought_clean import fips_codes  \n",
    "\n",
    "df = pd.read_csv('../data/filtered1_data_cleaned.csv')\n",
    "\n",
    "df_filtered = df[df['fips'].isin(fips_codes)]\n",
    "\n",
    "median_per_fips = df_filtered.groupby('fips').median(numeric_only=True)\n",
    "\n",
    "print(median_per_fips)"
   ]
  }
 ],
 "metadata": {
  "kernelspec": {
   "display_name": ".venv",
   "language": "python",
   "name": "python3"
  },
  "language_info": {
   "codemirror_mode": {
    "name": "ipython",
    "version": 3
   },
   "file_extension": ".py",
   "mimetype": "text/x-python",
   "name": "python",
   "nbconvert_exporter": "python",
   "pygments_lexer": "ipython3",
   "version": "3.13.1"
  }
 },
 "nbformat": 4,
 "nbformat_minor": 2
}
