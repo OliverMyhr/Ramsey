{
 "cells": [
  {
   "cell_type": "code",
   "execution_count": null,
   "id": "d21ea27b",
   "metadata": {},
   "outputs": [],
   "source": [
    "import pandas as pd\n",
    "import matplotlib.pyplot as plt\n",
    "from sklearn.model_selection import train_test_split\n",
    "import drought_clean as dc\n",
    "\n",
    "fips_codes = dc.fips_codes\n",
    "df = dc.df\n",
    "df.dropna(inplace=True)\n",
    "df[\"date\"] = pd.to_datetime(df[\"date\"])"
   ]
  }
 ],
 "metadata": {
  "kernelspec": {
   "display_name": ".venv",
   "language": "python",
   "name": "python3"
  },
  "language_info": {
   "name": "python",
   "version": "3.13.1"
  }
 },
 "nbformat": 4,
 "nbformat_minor": 5
}
